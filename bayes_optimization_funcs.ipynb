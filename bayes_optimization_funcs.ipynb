{
 "cells": [
  {
   "cell_type": "code",
   "execution_count": 240,
   "metadata": {},
   "outputs": [],
   "source": [
    "import numpy as np\n",
    "import pandas as pd\n",
    "import matplotlib.pyplot as plt\n",
    "from scipy.optimize import minimize\n",
    "\n",
    "from sklearn.datasets import make_classification, make_regression\n",
    "from sklearn.model_selection import train_test_split, cross_val_score, cross_validate\n",
    "from sklearn.metrics import r2_score\n",
    "from sklearn.preprocessing import PolynomialFeatures\n",
    "from sklearn.tree import DecisionTreeClassifier"
   ]
  },
  {
   "cell_type": "markdown",
   "metadata": {},
   "source": [
    "# Оптимизация\n",
    "\n",
    "[Black-Box Optimization Challenge, или как подбирать гиперпараметры для моделей](https://habr.com/ru/companies/hsespb/articles/537020/) (Дата обращения 29.03.2025)"
   ]
  },
  {
   "cell_type": "markdown",
   "metadata": {},
   "source": [
    "# Гауссовский процесс\n",
    "\n",
    "- [Регрессия гауссовского процесса с самого начала](https://habr.com/ru/companies/skillfactory/articles/562892/) (Дата обращения 29.03.2025)\n",
    "- [\\[DeepBayes\\] День 4, лекция 2. Гауссовские процессы и байесовская оптимизация](https://youtu.be/PgJMLpIfIc8?si=Xkxg0Ndqox6NNqUp) (Дата обращения 29.03.2025)\n",
    "\n",
    "\n",
    "Дано:\n",
    "$$\n",
    "\\begin{align}\n",
    "    & \\mathbf{X} = \\{x_1, ..., x_n\\} \\\\\n",
    "    & \\mathbf{f} = \\{f_{1}(x_1), ..., f_{n}(x_n)\\} = \\mathbf{y} = \\{y_1, ..., y_n\\} \\\\\n",
    "\\end{align}\n",
    "$$\n",
    "\n",
    "Обучение:\n",
    "$$\n",
    "\\begin{align}\n",
    "    & p(\\mathbf{f}|\\mathbf{X}) = \\mathcal{N}(\\mu, \\mathbf{K}) \\\\\n",
    "    & f(\\mathbf{x}) \\sim \\mathcal{GP}(\\mu(\\mathbf{x}), k(\\mathbf{x}, \\mathbf{x}^{\\prime})) \\\\\n",
    "    & \\mu(\\mathbf{x}) = \\mathbb{E}(f(\\mathbf{x})) \\\\\n",
    "    & k(\\mathbf{x}, \\mathbf{x}^{\\prime}) = \\mathbb{E}(f(\\mathbf{x} - m(\\mathbf{x}))f(\\mathbf{x}^{\\prime} - m(\\mathbf{x}^{\\prime}))) = cov(\\mathbf{x}, \\mathbf{x}^{\\prime})=\\sigma_{f}^{2}\\exp\\{-\\sum_{i=1}^{d}\\frac{(x_{i}-x_{i}^{\\prime})^2}{2r_{i}^2}\\}\\text{ - rbf kernel}\n",
    "\\end{align}\n",
    "$$\n",
    "\n",
    "Предсказание:\n",
    "$$\n",
    "\\begin{align}\n",
    "    & y_* = f_{*}(\\mathbf{x}_{*}) + \\epsilon_{*} \\\\\n",
    "    & p(\\mathbf{y}, f_{*}) = \\mathcal{N}\\left(0, \\left[ \\begin{matrix} \n",
    "        \\mathbf{K} + \\sigma^2 I_m & \\mathbf{k}_* \\\\ \n",
    "        \\mathbf{k}_*^{\\top} & \\mathbf{K}_{**} \n",
    "    \\end{matrix} \\right]\\right) \\\\\n",
    "    & \\mu_\\ast = \\mathbf{k}_\\ast^\\mathrm{T} [\\mathbf{K} + \\sigma^2 \\mathbf{I}_m]^{-1} \\mathbf{y}, \\\\\n",
    "    & \\sigma_\\ast^2 = \\bar{K}_{\\ast\\ast} - \\mathbf{k}_\\ast^\\mathrm{T} [\\mathbf{K} + \\sigma^2 \\mathbf{I}_m]^{-1} \\mathbf{k}_\\ast\n",
    "\n",
    "\\end{align}\n",
    "$$"
   ]
  },
  {
   "cell_type": "markdown",
   "metadata": {},
   "source": [
    "## Заметка\n",
    "\n",
    "- [Коэффициент вариации](https://ru.wikipedia.org/wiki/%D0%9A%D0%BE%D1%8D%D1%84%D1%84%D0%B8%D1%86%D0%B8%D0%B5%D0%BD%D1%82_%D0%B2%D0%B0%D1%80%D0%B8%D0%B0%D1%86%D0%B8%D0%B8) (Дата обращения 30.03.2025)\n",
    "- [Curse of Dimensionality](https://en.wikipedia.org/wiki/Curse_of_dimensionality) (Дата обращения 30.03.2025)\n",
    "\n",
    "При увеличении количества признаков точность предсказаний гауссовского процесса падет (это можно корректировать подбором коэффициента $r$, но не существенно). **Причина - проклятье размерности**. При увеличении признаков расстояние между объектами становится всё более одинаковым и, как следствие, rbf-ядро перестаёт работать. \n",
    "\n",
    "Рассмотрим вычисление евклидового расстояния $D^2=||x_i - x_j||^2 = \\sum_{i,j=1}^d (x_i - x_j)^2$ между независимыми равномерно распределнными точками в d-мерном единичном кубе $[0, 1]^d$:\n",
    "$$\n",
    "\\begin{align}\n",
    "    & \\mathbb{E}(D^2) = d\\mathbb{E}((x_i - x_j)^2) = \\frac{d}{6} \\\\\n",
    "    & Var(D^2) = d Var((x_i - x_j)^2) = d (\\mathbb{E}[(x_i - x_j)^4] - \\mathbb{E}[(x_i - x_j)^2]^2) = \\frac{d}{45} \\\\\n",
    "    & CV = \\frac{\\sigma}{\\mu} = \\frac{6\\sqrt{\\frac{d}{45}}}{d} \\rightarrow \\lim_{d \\rightarrow \\infty}CV = 0\n",
    "\\end{align}\n",
    "$$\n",
    "Видно, что $CV$ (коэффициент вариации, показывающий изменчивость данных в выборке) стремится к 0 при увеличении размерности, то есть, действительно, евклидово расстояние для всех точек становится практически одинаковым. "
   ]
  },
  {
   "cell_type": "code",
   "execution_count": 241,
   "metadata": {},
   "outputs": [],
   "source": [
    "class GaussianProcess:\n",
    "    def __init__(self, sigma=1, r=1, noise=0.1):\n",
    "        self.sigma = sigma # Предполагаемое распределение\n",
    "        self.r = r # Данный параметр масштабирует значения ковариационной функции\n",
    "        self.noise = noise # Ввожу шум для борьбы с вырожденными ковариационными матрицами \n",
    "\n",
    "    def rbf_kernel(self, xi, xj, sigma=1.0, r=1.0):\n",
    "        return sigma**2 * np.exp( -np.sum( (xi - xj)**2 / (2 * r**2) ) ) # Абсолютно гладкое гауссовское ядро\n",
    "    \n",
    "    def cov(self, X1, X2=None):\n",
    "        if X2 is None:\n",
    "            X2 = X1\n",
    "        return np.array(\n",
    "            [self.rbf_kernel(x1, x2, self.sigma, self.r) for x1 in X1 for x2 in X2]\n",
    "        ).reshape( (len(X1), len(X2)) )\n",
    "    \n",
    "    def fit(self, X_train, y_train):\n",
    "        self.X_train = np.array(X_train)\n",
    "        self.y_train = np.array(y_train) \n",
    "        return self\n",
    "\n",
    "    def predict(self, X_test):\n",
    "        X_test = np.array(X_test)\n",
    "        K = self.cov(self.X_train) # Считаем ковариационные матрицы трейна с самим собой\n",
    "        K_ss = self.cov(X_test) # Считаем ковариационные матрицы теста с самим собой\n",
    "        K_s = self.cov(self.X_train, X_test) # Считаем ковариационные матрицы трейна и тестом\n",
    "        K_inv = np.linalg.inv(K + self.noise**2 * np.eye(len(self.X_train))) # Обратная матрица с регуляризационным членом\n",
    "        mu_s = K_s.T @ K_inv @ self.y_train # Предсказываем среднее\n",
    "        cov_s = K_ss - K_s.T @ K_inv @ K_s # Предсказываем дисперсии\n",
    "        return (mu_s, np.diag(cov_s))"
   ]
  },
  {
   "cell_type": "code",
   "execution_count": 242,
   "metadata": {},
   "outputs": [
    {
     "data": {
      "text/plain": [
       "0.9999208827876167"
      ]
     },
     "execution_count": 242,
     "metadata": {},
     "output_type": "execute_result"
    }
   ],
   "source": [
    "X_GP, y_GP = make_regression(n_features=1)\n",
    "X_train_GP, X_test_GP, y_train_GP, y_test_GP = train_test_split(X_GP, y_GP, test_size=0.1)\n",
    "\n",
    "model_GP = GaussianProcess().fit(X_train_GP, y_train_GP)\n",
    "mu, var = model_GP.predict(X_test_GP)\n",
    "\n",
    "r2_score(y_test_GP, mu)"
   ]
  },
  {
   "cell_type": "markdown",
   "metadata": {},
   "source": [
    "# Функция приобретения\n",
    "\n",
    "- [Acquisition functions in Bayesian Optimization](https://ekamperi.github.io/machine%20learning/2021/06/11/acquisition-functions.html) (Дата обращения 30.03.2025)\n",
    "\n",
    "Есть следующие варианты:\n",
    "- **Expected Improvement (EI)** – ожидаемое улучшение.\n",
    "$$\n",
    "\\begin{align}\n",
    "    & \\mathrm{EI}(x;\\xi) = (\\mu - f(x^*) - \\xi)\\,\\Phi\\left(\\frac{\\mu - f(x^*) - \\xi}{\\sigma}\\right) + \\sigma\\,\\varphi\\left(\\frac{\\mu - f(x^*) - \\xi}{\\sigma}\\right) \\\\\n",
    "    & \\Phi(x) - \\mathrm{CDF}(x),\\space \\varphi(x) = \\frac{1}{\\sqrt{2\\pi}}\\exp(\\frac{-x^2}{2})\n",
    "\\end{align}\n",
    "$$\n",
    "- **Probability of Improvement (PI)** – вероятность улучшения.\n",
    "$$\n",
    "\\begin{align}\n",
    "& \\mathrm{PI}(x)=\\Phi(\\frac{\\mu(x) - f(x^{*})}{\\sigma(x)})\n",
    "\\end{align}\n",
    "$$\n",
    "- **Upper Confidence Bound (UCB)** – верхняя граница доверительного интервала.\n",
    "$$\n",
    "\\begin{align}\n",
    "& \\mathrm{UCB}(x) = \\mu(x) + \\beta\\sigma(x)\n",
    "\\end{align} \n",
    "$$"
   ]
  },
  {
   "cell_type": "code",
   "execution_count": 243,
   "metadata": {},
   "outputs": [],
   "source": [
    "class AcquisitionFunc:\n",
    "    def UCB(self, model_gp, x, b = 1):\n",
    "        x = np.array([x])\n",
    "        m, var = model_gp.predict(x)\n",
    "        return -1*(m + b * var)"
   ]
  },
  {
   "cell_type": "code",
   "execution_count": 244,
   "metadata": {},
   "outputs": [
    {
     "data": {
      "text/plain": [
       "(13.020948335413447, 0.0003674171339731469)"
      ]
     },
     "execution_count": 244,
     "metadata": {},
     "output_type": "execute_result"
    }
   ],
   "source": [
    "acq_func = AcquisitionFunc()\n",
    "dots = acq_func.UCB(model_GP, [2])\n",
    "mu[np.argmax(dots)], var[np.argmax(dots)]"
   ]
  },
  {
   "cell_type": "markdown",
   "metadata": {},
   "source": [
    "# Объединение гауссового процесса и функции приобретения в байесовскую оптимизацию\n",
    "\n",
    "Порядок работы алгоритма оптимизации:\n",
    "1. Получение начальных значений оптимизируемой функции\n",
    "2. Обучение на них гауссовского процесса\n",
    "3. Максимизация (минимизация отрицательного значения) функции приобретения\n",
    "4. Получение значения целевой функции в точке, полученной на предыдущем шаге\n",
    "5. Переобучение гауссового процесса с учетом новой информации: точки максимизирующей функцию приобретения и значения на ней целевой функции"
   ]
  },
  {
   "cell_type": "code",
   "execution_count": 245,
   "metadata": {},
   "outputs": [
    {
     "name": "stdout",
     "output_type": "stream",
     "text": [
      "Y: 0.4391109345463315, X: [-0.71630402]\n",
      "Y: 0.4391109345463315, X: [-0.71630402]\n",
      "Y: 0.4391109345463315, X: [-0.71630402]\n",
      "Y: 0.4391109345463315, X: [-0.71630402]\n",
      "Y: 0.4391109345463315, X: [-0.71630402]\n",
      "Y: 0.4391109345463315, X: [-0.71630402]\n",
      "Y: 0.49118863167910193, X: [-3.19241524]\n",
      "Y: 0.49118863167910193, X: [-3.19241524]\n",
      "Y: 0.49118863167910193, X: [-3.19241524]\n",
      "Y: 0.49118863167910193, X: [-3.19241524]\n"
     ]
    }
   ],
   "source": [
    "# Целевая функция\n",
    "def custom_function(x):\n",
    "    return -np.sin(x) * np.exp(-(x - 2)**2) + np.exp(-0.5 * (x + 2)**2)\n",
    "\n",
    "X_sample = np.random.uniform(-5, 5, 5).reshape(-1, 1)\n",
    "Y_sample = custom_function(X_sample)\n",
    "\n",
    "# Обучение гауссовского процесса\n",
    "gp = GaussianProcess(sigma=1, r=1, noise=0.1)\n",
    "gp.fit(X_sample, Y_sample)\n",
    "\n",
    "# Основной цикл байесовской оптимизации\n",
    "for i in range(10):\n",
    "    y_max = np.max(Y_sample) # Беру максимальный известный y (вообще можно взять любой, но вдруг попаду в максимум)\n",
    "    result = minimize(AcquisitionFunc.UCB, x0=np.random.uniform(-5, 5), args=(gp, y_max), bounds=[(-5, 5)]) # Максимизирую функцию приобретения\n",
    "    X_next = result.x\n",
    "\n",
    "    Y_next = custom_function(X_next) # Оценить целевую функцию в новой точке\n",
    "\n",
    "    # Добавляю известную точку к другим уже известным и заново учу гауссовский процесс\n",
    "    X_sample = np.vstack((X_sample, X_next.reshape(1, -1))) \n",
    "    Y_sample = np.append(Y_sample, Y_next)\n",
    "    gp.fit(X_sample, Y_sample)\n",
    "\n",
    "    # Вывожу текущий максимум\n",
    "    print(f\"Y: {np.max(Y_sample)}, X: {X_sample[np.argmax(Y_sample)]}\")"
   ]
  },
  {
   "cell_type": "code",
   "execution_count": 246,
   "metadata": {},
   "outputs": [
    {
     "data": {
      "image/png": "[encoded data removed]",
      "text/plain": [
       "<Figure size 640x480 with 1 Axes>"
      ]
     },
     "metadata": {},
     "output_type": "display_data"
    }
   ],
   "source": [
    "# Визуализация результатов\n",
    "x_values = np.linspace(-5, 5, 400).reshape(-1, 1)\n",
    "y_values = custom_function(x_values)\n",
    "mu, sigma = gp.predict(x_values)\n",
    "\n",
    "plt.plot(x_values, y_values, label='Целевая функция')\n",
    "plt.plot(x_values, mu, label='Гауссовский процесс')\n",
    "plt.fill_between(x_values.flatten(), mu - 1.96 * sigma, mu + 1.96 * sigma, alpha=0.2, label='95% доверительный интервал')\n",
    "plt.scatter(X_sample, Y_sample, color='red', label='Выборки')\n",
    "plt.title('Байесовская оптимизация')\n",
    "plt.xlabel('x')\n",
    "plt.ylabel('f(x)')\n",
    "plt.legend()\n",
    "plt.grid(True)\n",
    "plt.show()"
   ]
  },
  {
   "cell_type": "markdown",
   "metadata": {},
   "source": [
    "# Теперь применю байесовскую оптимиазацию к моделя машинного обучения\n",
    "\n",
    "Гиперпараметры для оптимизации будут задаваться в словаре, где каждый ключ - название гиперпараметра. \n",
    "\n",
    "Словарь хранит кортеж из двух элементов: \n",
    "- Тип данных.\n",
    "- Интервал значений."
   ]
  },
  {
   "cell_type": "code",
   "execution_count": 247,
   "metadata": {},
   "outputs": [],
   "source": [
    "from sklearn.base import clone\n",
    "\n",
    "class GaussianProcess:\n",
    "    def __init__(self, sigma=1, r=1, noise=0.1):\n",
    "        self.sigma = sigma # Предполагаемое распределение\n",
    "        self.r = r # Данный параметр масштабирует значения ковариационной функции\n",
    "        self.noise = noise # Ввожу шум для борьбы с вырожденными ковариационными матрицами \n",
    "\n",
    "    def rbf_kernel(self, xi, xj, sigma=1.0, r=1.0):\n",
    "        return sigma**2 * np.exp( -np.sum( (xi - xj)**2) / (2 * r**2) ) # Абсолютно гладкое гауссовское ядро\n",
    "    \n",
    "    def cov(self, X1, X2=None):\n",
    "        if X2 is None:\n",
    "            X2 = X1\n",
    "        return np.array(\n",
    "            [self.rbf_kernel(x1, x2, self.sigma, self.r) for x1 in X1 for x2 in X2]\n",
    "        ).reshape( (len(X1), len(X2)) )\n",
    "    \n",
    "    def fit(self, X_train, y_train):\n",
    "        self.X_train = np.array(X_train)\n",
    "        self.y_train = np.array(y_train) \n",
    "        return self\n",
    "\n",
    "    def predict(self, X_test):\n",
    "        X_test = np.array(X_test)\n",
    "        K = self.cov(self.X_train) # Считаем ковариационные матрицы трейна с самим собой\n",
    "        K_ss = self.cov(X_test) # Считаем ковариационные матрицы теста с самим собой\n",
    "        K_s = self.cov(self.X_train, X_test) # Считаем ковариационные матрицы трейна и тестом\n",
    "        K_inv = np.linalg.inv(K + self.noise**2 * np.eye(len(self.X_train))) # Обратная матрица с регуляризационным членом\n",
    "        mu_s = K_s.T @ K_inv @ self.y_train # Предсказываем среднее\n",
    "        cov_s = K_ss - K_s.T @ K_inv @ K_s # Предсказываем дисперсии\n",
    "        return (mu_s, np.diag(cov_s))\n",
    "\n",
    "class AcquisitionFunc:\n",
    "    def UCB(self, model_gp, X, b = 2):\n",
    "        m, var = model_gp.predict(X.reshape(1, -1))\n",
    "        return -1*(m + b * var)\n",
    "\n",
    "class BayesOptimization:\n",
    "    def __init__(self, model,\n",
    "                       dict_params,\n",
    "                       obj_func=\"GP\",\n",
    "                       acq_func=\"UCB\",\n",
    "                       n_iters=50,\n",
    "                       cv=5):\n",
    "        \n",
    "        self.n_iters = n_iters\n",
    "        self.cv = cv\n",
    "        self.obj_func = obj_func\n",
    "        self.acq_func = acq_func  \n",
    "        self.model = model\n",
    "        self.dict_params = dict_params\n",
    "\n",
    "    def fit(self, X, y):\n",
    "        number_of_starting_points = 10\n",
    "        X_sample, Y_sample = [], []\n",
    "        for point in range(number_of_starting_points): \n",
    "            # Задаём каким образом генерирутся оптимизируемые параметры для модели\n",
    "            uniform_func = np.random.uniform\n",
    "            # Здесь хранятся случайные значения для оптимизируемых параметров\n",
    "            optimization_params = {}\n",
    "            nums_for_params = []\n",
    "            for key, param in self.dict_params.items(): \n",
    "                # Тип переменной\n",
    "                type_func = param[0]\n",
    "                # Интервал\n",
    "                a, b = param[1]\n",
    "                # Генерация значения гиперпараметра\n",
    "                num = type_func(uniform_func(a, b))\n",
    "                optimization_params[key] = num\n",
    "                nums_for_params.append(num)\n",
    "            # Кросс-валидация с сгенерированными параметрами \n",
    "            model = clone(self.model).set_params(**optimization_params)\n",
    "            cv_results = cross_validate(model.set_params(**optimization_params),\n",
    "                                        X, y)\n",
    "            # Запоминаем новую стартовую точку\n",
    "            X_sample.append(nums_for_params)\n",
    "            Y_sample.append(np.mean(cv_results[\"test_score\"]))\n",
    "        # Перевожу в np массив\n",
    "        X_sample = np.array(X_sample)\n",
    "        Y_sample = np.array(Y_sample)\n",
    "        # Обучение гауссовского процесса\n",
    "        gp = GaussianProcess(sigma=1, r=1, noise=0.1)\n",
    "        gp.fit(X_sample, Y_sample)\n",
    "        # Основной цикл байесовской оптимизации\n",
    "        for i in range(self.n_iters):\n",
    "            # Беру максимальный известный y (вообще можно взять любой, но вдруг попаду в максимум)\n",
    "            y_max = np.max(Y_sample)\n",
    "            # Генерирую начальные точки для минимизации\n",
    "            X0 = []\n",
    "            bounds = []\n",
    "            for key, param in self.dict_params.items(): \n",
    "                # Тип параметра\n",
    "                type_func = param[0]\n",
    "                # Интервал\n",
    "                a, b = param[1]\n",
    "                # Генерация значения гиперпараметра\n",
    "                X0.append(type_func(uniform_func(a, b)))\n",
    "                bounds.append((a, b))\n",
    "            # Максимизирую функцию приобретения\n",
    "            result = minimize(AcquisitionFunc.UCB, \n",
    "                              x0=X0, \n",
    "                              args=(gp, y_max), \n",
    "                              bounds=bounds, \n",
    "                              method='L-BFGS-B')\n",
    "            # Следующие X\n",
    "            X_next = result.x\n",
    "            # Здесь хранятся значения новой точки для оптимизируемых параметров\n",
    "            optimization_params = {}\n",
    "            i = 0\n",
    "            for key, param in self.dict_params.items(): \n",
    "                # Тип переменной\n",
    "                type_func = param[0]\n",
    "                # Приводим значения гиперпараметра к нужному типу\n",
    "                num = type_func(X_next[i])\n",
    "                optimization_params[key] = num\n",
    "                i += 1\n",
    "            # Кросс-валидация с сгенерированными параметрами \n",
    "            model = clone(self.model).set_params(**optimization_params)\n",
    "            cv_results = cross_validate(model, X, y)\n",
    "            # Оценить целевую функцию в новой точке\n",
    "            Y_next = np.mean(cv_results[\"test_score\"])\n",
    "            # Добавляю известную точку к другим уже известным и заново учу гауссовский процесс\n",
    "            X_sample = np.vstack((X_sample, X_next.reshape(1, -1))) \n",
    "            Y_sample = np.append(Y_sample, Y_next)\n",
    "            gp.fit(X_sample, Y_sample)\n",
    "        # Лучший score\n",
    "        best_score = np.max(Y_sample)\n",
    "        # Лучший набор параметров\n",
    "        best_params_value = X_sample[np.argmax(Y_sample)]\n",
    "        best_params = {}\n",
    "        i = 0\n",
    "        for key in self.dict_params: \n",
    "            best_params[key] = best_params_value[i]\n",
    "            i += 1\n",
    "\n",
    "        return best_score, best_params"
   ]
  },
  {
   "cell_type": "markdown",
   "metadata": {},
   "source": [
    "# Модель для теста оптимизации"
   ]
  },
  {
   "cell_type": "code",
   "execution_count": 250,
   "metadata": {},
   "outputs": [
    {
     "name": "stdout",
     "output_type": "stream",
     "text": [
      "Cross validation score: 0.55\n"
     ]
    }
   ],
   "source": [
    "X, y = make_classification()\n",
    "X_train, X_test, y_train, y_test = train_test_split(X, y, test_size=0.2)\n",
    "tree = DecisionTreeClassifier().fit(X_train, y_train)\n",
    "print(f\"Cross validation score: {np.mean(cross_val_score(tree, X_test, y_test))}\")"
   ]
  },
  {
   "cell_type": "code",
   "execution_count": 251,
   "metadata": {},
   "outputs": [
    {
     "name": "stdout",
     "output_type": "stream",
     "text": [
      "best score: 0.85\n",
      "best params: {'max_depth': 1.0, 'min_samples_leaf': 24.0, 'min_samples_split': 18.0}\n"
     ]
    }
   ],
   "source": [
    "tree_params = {'max_depth': (int, [1, 100]), \"min_samples_leaf\": (int, [1, 100]), \"min_samples_split\": (int, [2, 100])}\n",
    "score, params = BayesOptimization(tree, tree_params, n_iters=10).fit(X, y)\n",
    "print(f\"best score: {score}\")\n",
    "print(f\"best params: {params}\")"
   ]
  },
  {
   "cell_type": "code",
   "execution_count": null,
   "metadata": {},
   "outputs": [],
   "source": []
  }
 ],
 "metadata": {
  "kernelspec": {
   "display_name": "Python 3",
   "language": "python",
   "name": "python3"
  },
  "language_info": {
   "codemirror_mode": {
    "name": "ipython",
    "version": 3
   },
   "file_extension": ".py",
   "mimetype": "text/x-python",
   "name": "python",
   "nbconvert_exporter": "python",
   "pygments_lexer": "ipython3",
   "version": "3.12.0"
  }
 },
 "nbformat": 4,
 "nbformat_minor": 2
}
